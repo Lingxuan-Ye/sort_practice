{
 "cells": [
  {
   "cell_type": "markdown",
   "metadata": {},
   "source": [
    "# 运行速度的一些测试和总结"
   ]
  },
  {
   "cell_type": "markdown",
   "metadata": {},
   "source": [
    "## 全局设置"
   ]
  },
  {
   "cell_type": "code",
   "execution_count": null,
   "metadata": {},
   "outputs": [],
   "source": [
    "from functools import wraps\n",
    "from random import shuffle\n",
    "from time import time\n",
    "from typing import Callable, Union\n",
    "\n",
    "temp = [i for i in range(1_000_000)]\n",
    "shuffle(temp)\n",
    "FROZEN_LIST: tuple = tuple(temp)\n",
    "del temp"
   ]
  },
  {
   "cell_type": "markdown",
   "metadata": {},
   "source": [
    "## 计时器"
   ]
  },
  {
   "cell_type": "code",
   "execution_count": null,
   "metadata": {},
   "outputs": [],
   "source": [
    "def timer(arg: Union[int, Callable]):\n",
    "    if isinstance(arg, int):\n",
    "        def decorator(func: Callable):\n",
    "            @wraps(func)\n",
    "            def wrapper(*args, **kwargs):\n",
    "                result = []\n",
    "                before = time()\n",
    "                for _ in range(arg):\n",
    "                    result.append(func(*args, **kwargs))\n",
    "                after = time()\n",
    "                print(f\"runtime = {after - before} seconds\")\n",
    "                if any(i is not None for i in result):\n",
    "                    return result\n",
    "            return wrapper\n",
    "        return decorator\n",
    "    else:\n",
    "        func = arg\n",
    "        @wraps(func)\n",
    "        def wrapper(*args, **kwargs):\n",
    "            before = time()\n",
    "            result = func(*args, **kwargs)\n",
    "            after = time()\n",
    "            print(f\"runtime = {after - before} seconds\")\n",
    "            return result\n",
    "        return wrapper"
   ]
  },
  {
   "cell_type": "markdown",
   "metadata": {},
   "source": [
    "## 引用和索引的比较"
   ]
  },
  {
   "cell_type": "code",
   "execution_count": null,
   "metadata": {},
   "outputs": [],
   "source": [
    "list_ = list(FROZEN_LIST)\n",
    "index: int\n",
    "value: int\n",
    "\n",
    "@timer(1_000_000)\n",
    "def foo():\n",
    "    value\n",
    "\n",
    "@timer(1_000_000)\n",
    "def bar():\n",
    "    list_[index]\n",
    "\n",
    "for i in range(6):\n",
    "    index = 10 ** (i) - 1\n",
    "    value = list_[index]\n",
    "    print(f\"index = {index}\")  # f\"{index = }\" in Python 3.8 and later\n",
    "    print(\"foo: \", end=\"\")\n",
    "    foo()\n",
    "    print(\"bar: \", end=\"\")\n",
    "    bar()\n",
    "    print(\"\\n\", end=\"\")  # print(\"\") is less explicit\n",
    "\n",
    "del foo\n",
    "del bar"
   ]
  },
  {
   "cell_type": "markdown",
   "metadata": {},
   "source": [
    "结论:\n",
    "\n",
    "- 引用 (全局 `__dict` 属性中取键值) 要快于列表中取索引."
   ]
  },
  {
   "cell_type": "markdown",
   "metadata": {},
   "source": [
    "## 元组转列表"
   ]
  },
  {
   "cell_type": "code",
   "execution_count": null,
   "metadata": {},
   "outputs": [],
   "source": [
    "for i in range(4):\n",
    "    looptimes: int = 10 ** i\n",
    "\n",
    "    @timer(looptimes)\n",
    "    def foo():\n",
    "        list_ = []\n",
    "        list_[:] = FROZEN_LIST\n",
    "\n",
    "    @timer(looptimes)\n",
    "    def foo_():\n",
    "        list_ = []\n",
    "        list_[:] = FROZEN_LIST[:]\n",
    "\n",
    "    @timer(looptimes)\n",
    "    def bar():\n",
    "        list_ = list(FROZEN_LIST)\n",
    "\n",
    "    @timer(looptimes)\n",
    "    def baz():\n",
    "        list_ = [*FROZEN_LIST]\n",
    "\n",
    "    print(f\"looptimes = {looptimes}\")\n",
    "    print(\"foo: \", end=\"\")\n",
    "    foo()\n",
    "    print(\"foo_: \", end=\"\")\n",
    "    foo_()\n",
    "    print(\"bar: \", end=\"\")\n",
    "    bar()\n",
    "    print(\"baz: \", end=\"\")\n",
    "    baz()\n",
    "    print(\"\\n\", end=\"\")\n",
    "\n",
    "del foo\n",
    "del foo_\n",
    "del bar\n",
    "del baz"
   ]
  },
  {
   "cell_type": "markdown",
   "metadata": {},
   "source": [
    "结论:\n",
    "\n",
    "- 单次运行时, 内置函数 `list` (实际为内置类) 平均运行速度较快, 但存在解包快于 `list` 的情况.\n",
    "- 循环运行时, 解包明显快于其他方法, 原因不明.\n",
    "\n",
    "鉴于元组转列表一般为单次操作, 且解包的**可读性**不如 `list` 函数, 推荐使用后者."
   ]
  }
 ],
 "metadata": {
  "kernelspec": {
   "display_name": "Python 3.10.3 ('base_venv')",
   "language": "python",
   "name": "python3"
  },
  "language_info": {
   "codemirror_mode": {
    "name": "ipython",
    "version": 3
   },
   "file_extension": ".py",
   "mimetype": "text/x-python",
   "name": "python",
   "nbconvert_exporter": "python",
   "pygments_lexer": "ipython3",
   "version": "3.10.5"
  },
  "orig_nbformat": 4,
  "vscode": {
   "interpreter": {
    "hash": "cba5be38fc1aeee654d11624e3a50025583c77e3d821b08b90da1fc4cac58442"
   }
  }
 },
 "nbformat": 4,
 "nbformat_minor": 2
}
